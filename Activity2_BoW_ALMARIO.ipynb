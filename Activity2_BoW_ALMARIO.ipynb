{
  "nbformat": 4,
  "nbformat_minor": 0,
  "metadata": {
    "colab": {
      "provenance": [],
      "authorship_tag": "ABX9TyOWzwM5ckWg4fpirDvBbO9c",
      "include_colab_link": true
    },
    "kernelspec": {
      "name": "python3",
      "display_name": "Python 3"
    },
    "language_info": {
      "name": "python"
    }
  },
  "cells": [
    {
      "cell_type": "markdown",
      "metadata": {
        "id": "view-in-github",
        "colab_type": "text"
      },
      "source": [
        "<a href=\"https://colab.research.google.com/github/iiCellxx/CSST-104/blob/main/Activity2_BoW_ALMARIO.ipynb\" target=\"_parent\"><img src=\"https://colab.research.google.com/assets/colab-badge.svg\" alt=\"Open In Colab\"/></a>"
      ]
    },
    {
      "cell_type": "markdown",
      "source": [
        "# Activity 2: Bag of Words (BoW) Model"
      ],
      "metadata": {
        "id": "p0ElKiHw5MH1"
      }
    },
    {
      "cell_type": "markdown",
      "source": [
        "# Step 1: Install and Import Required Libraries"
      ],
      "metadata": {
        "id": "nxePi5GF5Sn0"
      }
    },
    {
      "cell_type": "code",
      "execution_count": 1,
      "metadata": {
        "colab": {
          "base_uri": "https://localhost:8080/"
        },
        "id": "qrUAvoUc5JvI",
        "outputId": "a15d2b9a-167a-4993-bd81-194000744b7a"
      },
      "outputs": [
        {
          "output_type": "stream",
          "name": "stdout",
          "text": [
            "Requirement already satisfied: scikit-learn in /usr/local/lib/python3.11/dist-packages (1.6.1)\n",
            "Requirement already satisfied: pandas in /usr/local/lib/python3.11/dist-packages (2.2.2)\n",
            "Requirement already satisfied: numpy>=1.19.5 in /usr/local/lib/python3.11/dist-packages (from scikit-learn) (1.26.4)\n",
            "Requirement already satisfied: scipy>=1.6.0 in /usr/local/lib/python3.11/dist-packages (from scikit-learn) (1.13.1)\n",
            "Requirement already satisfied: joblib>=1.2.0 in /usr/local/lib/python3.11/dist-packages (from scikit-learn) (1.4.2)\n",
            "Requirement already satisfied: threadpoolctl>=3.1.0 in /usr/local/lib/python3.11/dist-packages (from scikit-learn) (3.5.0)\n",
            "Requirement already satisfied: python-dateutil>=2.8.2 in /usr/local/lib/python3.11/dist-packages (from pandas) (2.8.2)\n",
            "Requirement already satisfied: pytz>=2020.1 in /usr/local/lib/python3.11/dist-packages (from pandas) (2025.1)\n",
            "Requirement already satisfied: tzdata>=2022.7 in /usr/local/lib/python3.11/dist-packages (from pandas) (2025.1)\n",
            "Requirement already satisfied: six>=1.5 in /usr/local/lib/python3.11/dist-packages (from python-dateutil>=2.8.2->pandas) (1.17.0)\n"
          ]
        }
      ],
      "source": [
        "# Install necessary libraries (if not installed)\n",
        "!pip install scikit-learn pandas\n",
        "\n",
        "# Import required libraries\n",
        "import pandas as pd\n",
        "from sklearn.feature_extraction.text import CountVectorizer\n"
      ]
    },
    {
      "cell_type": "markdown",
      "source": [
        "# Step 2: Define Sample Sentences (Corpus)"
      ],
      "metadata": {
        "id": "1_Cy574Z5Zrt"
      }
    },
    {
      "cell_type": "code",
      "source": [
        "# Sample sentences (corpus)\n",
        "corpus = [\n",
        "    \"Artificial Intelligence is powerful.\",\n",
        "    \"Machine Learning is part of Artificial Intelligence.\",\n",
        "    \"NLP is a field of AI.\"\n",
        "]\n"
      ],
      "metadata": {
        "id": "s0sCozkG5cNs"
      },
      "execution_count": 2,
      "outputs": []
    },
    {
      "cell_type": "markdown",
      "source": [
        "# Step 3: Create the BoW Model"
      ],
      "metadata": {
        "id": "-QEbAWL55dkl"
      }
    },
    {
      "cell_type": "code",
      "source": [
        "# Create CountVectorizer instance\n",
        "vectorizer = CountVectorizer()\n",
        "\n",
        "# Fit and transform the corpus into a BoW representation\n",
        "X = vectorizer.fit_transform(corpus)\n"
      ],
      "metadata": {
        "id": "3NcB6iO25fCl"
      },
      "execution_count": 3,
      "outputs": []
    },
    {
      "cell_type": "markdown",
      "source": [
        "# Step 4: Convert BoW into a DataFrame"
      ],
      "metadata": {
        "id": "0ITrGtEe5fzc"
      }
    },
    {
      "cell_type": "code",
      "source": [
        "# Convert BoW matrix to a pandas DataFrame for better readability\n",
        "df = pd.DataFrame(X.toarray(), columns=vectorizer.get_feature_names_out())\n",
        "\n",
        "# Display the BoW Model\n",
        "print(\"Bag of Words Model:\")\n",
        "print(df)\n"
      ],
      "metadata": {
        "id": "mXPTDQMG5hgF",
        "outputId": "b315d213-e6b7-42d8-ee65-73f9a530e8fe",
        "colab": {
          "base_uri": "https://localhost:8080/"
        }
      },
      "execution_count": 4,
      "outputs": [
        {
          "output_type": "stream",
          "name": "stdout",
          "text": [
            "Bag of Words Model:\n",
            "   ai  artificial  field  intelligence  is  learning  machine  nlp  of  part  \\\n",
            "0   0           1      0             1   1         0        0    0   0     0   \n",
            "1   0           1      0             1   1         1        1    0   1     1   \n",
            "2   1           0      1             0   1         0        0    1   1     0   \n",
            "\n",
            "   powerful  \n",
            "0         1  \n",
            "1         0  \n",
            "2         0  \n"
          ]
        }
      ]
    }
  ]
}