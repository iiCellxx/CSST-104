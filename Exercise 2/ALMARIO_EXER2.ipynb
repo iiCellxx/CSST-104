{
  "nbformat": 4,
  "nbformat_minor": 0,
  "metadata": {
    "colab": {
      "provenance": []
    },
    "kernelspec": {
      "name": "python3",
      "display_name": "Python 3"
    },
    "language_info": {
      "name": "python"
    }
  },
  "cells": [
    {
      "cell_type": "markdown",
      "source": [
        "# Step 1: Import Required Libraries"
      ],
      "metadata": {
        "id": "SkNe1KRtHFz8"
      }
    },
    {
      "cell_type": "code",
      "execution_count": 7,
      "metadata": {
        "id": "eeOWSqb-HBYm"
      },
      "outputs": [],
      "source": [
        "import pandas as pd\n",
        "import numpy as np\n",
        "from sklearn.model_selection import train_test_split\n",
        "from sklearn.preprocessing import LabelEncoder, StandardScaler\n",
        "from sklearn.feature_selection import SelectKBest, f_classif, RFE\n",
        "from sklearn.linear_model import LogisticRegression, Lasso\n",
        "from sklearn.metrics import accuracy_score\n"
      ]
    },
    {
      "cell_type": "markdown",
      "source": [
        "# Step 2: Load the Datasets"
      ],
      "metadata": {
        "id": "H3tVHvvAHH8D"
      }
    },
    {
      "cell_type": "code",
      "source": [
        "# Load datasets\n",
        "breast_cancer_df = pd.read_csv('breast_cancer_dataset.csv')\n",
        "heart_disease_df = pd.read_csv('heart-dataset.csv')\n",
        "iris_df = pd.read_csv('iris-dataset.csv')\n",
        "wine_quality_df = pd.read_csv('wine-quality-dataset.csv')\n",
        "\n",
        "# Store datasets in a dictionary\n",
        "datasets = {\n",
        "    \"Breast Cancer\": breast_cancer_df,\n",
        "    \"Heart Disease\": heart_disease_df,\n",
        "    \"Iris\": iris_df,\n",
        "    \"Wine Quality\": wine_quality_df\n",
        "}\n"
      ],
      "metadata": {
        "id": "W4WSRB9YHKfj"
      },
      "execution_count": 3,
      "outputs": []
    },
    {
      "cell_type": "markdown",
      "source": [
        "# Step 3: Preprocess the Datasets"
      ],
      "metadata": {
        "id": "CnYll7jhHU87"
      }
    },
    {
      "cell_type": "code",
      "source": [
        "def preprocess_dataset(name, df):\n",
        "    # Remove unnecessary columns\n",
        "    if name == \"Iris\":\n",
        "        df = df.drop(columns=[\"Id\"])  # Remove Id column\n",
        "    if name == \"Breast Cancer\":\n",
        "        df.columns = [\"ID\", \"Clump_Thickness\", \"Uniformity_Cell_Size\", \"Uniformity_Cell_Shape\",\n",
        "                      \"Marginal_Adhesion\", \"Single_Epithelial_Cell_Size\", \"Bare_Nuclei\",\n",
        "                      \"Bland_Chromatin\", \"Normal_Nucleoli\", \"Mitoses\", \"Class\"]\n",
        "        df = df.drop(columns=[\"ID\"])  # Remove ID column\n",
        "\n",
        "    # Define target variable\n",
        "    target = {\n",
        "        \"Breast Cancer\": \"Class\",\n",
        "        \"Heart Disease\": \"target\",\n",
        "        \"Iris\": \"Species\",\n",
        "        \"Wine Quality\": \"Wine\"\n",
        "    }[name]\n",
        "\n",
        "    # Convert categorical target to numeric if needed\n",
        "    if df[target].dtype == 'object':\n",
        "        df[target] = LabelEncoder().fit_transform(df[target])\n",
        "\n",
        "    # Split into features and target\n",
        "    X = df.drop(columns=[target])\n",
        "    y = df[target]\n",
        "\n",
        "    # Standardize features\n",
        "    scaler = StandardScaler()\n",
        "    X_scaled = scaler.fit_transform(X)\n",
        "\n",
        "    # Split into train and test sets\n",
        "    X_train, X_test, y_train, y_test = train_test_split(X_scaled, y, test_size=0.2, random_state=42)\n",
        "\n",
        "    return X_train, X_test, y_train, y_test, X.columns\n",
        "\n",
        "# Preprocess all datasets\n",
        "processed_data = {name: preprocess_dataset(name, df) for name, df in datasets.items()}\n"
      ],
      "metadata": {
        "id": "ro8GNI-iHVpb"
      },
      "execution_count": 8,
      "outputs": []
    },
    {
      "cell_type": "markdown",
      "source": [
        "# Step 4: Apply Feature Selection and Train Models"
      ],
      "metadata": {
        "id": "7xTTzEZzHX57"
      }
    },
    {
      "cell_type": "code",
      "source": [
        "def evaluate_feature_selection(name, X_train, X_test, y_train, y_test, feature_names, num_features=5):\n",
        "    results = {}\n",
        "    model = LogisticRegression(max_iter=10000)\n",
        "\n",
        "    # SelectKBest (Filter Method)\n",
        "    k_best = SelectKBest(score_func=f_classif, k=min(num_features, X_train.shape[1]))\n",
        "    X_train_kbest = k_best.fit_transform(X_train, y_train)\n",
        "    X_test_kbest = k_best.transform(X_test)\n",
        "    selected_kbest_features = feature_names[k_best.get_support()]\n",
        "    model.fit(X_train_kbest, y_train)\n",
        "    acc_kbest = accuracy_score(y_test, model.predict(X_test_kbest))\n",
        "    results[\"SelectKBest\"] = (acc_kbest, selected_kbest_features.tolist())\n",
        "\n",
        "    # RFE (Wrapper Method)\n",
        "    rfe = RFE(estimator=LogisticRegression(max_iter=10000), n_features_to_select=min(num_features, X_train.shape[1]))\n",
        "    X_train_rfe = rfe.fit_transform(X_train, y_train)\n",
        "    X_test_rfe = rfe.transform(X_test)\n",
        "    selected_rfe_features = feature_names[rfe.get_support()]\n",
        "    model.fit(X_train_rfe, y_train)\n",
        "    acc_rfe = accuracy_score(y_test, model.predict(X_test_rfe))\n",
        "    results[\"RFE\"] = (acc_rfe, selected_rfe_features.tolist())\n",
        "\n",
        "    # Lasso Regression (Embedded Method)\n",
        "    lasso = Lasso(alpha=0.01)\n",
        "    lasso.fit(X_train, y_train)\n",
        "    selected_features = np.where(lasso.coef_ != 0)[0]\n",
        "    if len(selected_features) > 0:\n",
        "        X_train_lasso = X_train[:, selected_features]\n",
        "        X_test_lasso = X_test[:, selected_features]\n",
        "        selected_lasso_features = feature_names[selected_features]\n",
        "        model.fit(X_train_lasso, y_train)\n",
        "        acc_lasso = accuracy_score(y_test, model.predict(X_test_lasso))\n",
        "    else:\n",
        "        acc_lasso = 0  # No features selected\n",
        "        selected_lasso_features = []\n",
        "\n",
        "    results[\"Lasso\"] = (acc_lasso, selected_lasso_features)\n",
        "\n",
        "    return results\n",
        "\n",
        "# Apply feature selection and evaluate for all datasets\n",
        "evaluation_results = {\n",
        "    name: evaluate_feature_selection(name, *data) for name, data in processed_data.items()\n",
        "}\n"
      ],
      "metadata": {
        "id": "7Pim8638HZu7"
      },
      "execution_count": 9,
      "outputs": []
    },
    {
      "cell_type": "markdown",
      "source": [
        "# Step 5: Print the Results"
      ],
      "metadata": {
        "id": "xI9VDFDsHb_D"
      }
    },
    {
      "cell_type": "code",
      "source": [
        "from tabulate import tabulate\n",
        "\n",
        "# Prepare data for the table\n",
        "table_data = []\n",
        "for dataset, results in evaluation_results.items():\n",
        "    for method, (accuracy, features) in results.items():\n",
        "        table_data.append([dataset, method, f\"{accuracy:.4f}\", \", \".join(features)])\n",
        "\n",
        "# Convert to DataFrame\n",
        "results_df = pd.DataFrame(table_data, columns=[\"Dataset\", \"Method\", \"Accuracy\", \"Top 5 Features\"])\n",
        "\n",
        "# Print the results in a table with a box style\n",
        "print(tabulate(results_df, headers=\"keys\", tablefmt=\"fancy_grid\", showindex=False))\n"
      ],
      "metadata": {
        "colab": {
          "base_uri": "https://localhost:8080/"
        },
        "id": "nXMIljytJyvy",
        "outputId": "0e4443f2-b032-488d-b101-d9d330e57c22"
      },
      "execution_count": 12,
      "outputs": [
        {
          "output_type": "stream",
          "name": "stdout",
          "text": [
            "╒═══════════════╤═════════════╤════════════╤══════════════════════════════════════════════════════════════════════════════════════════════════════════════════════════════════════════════════════════════════════╕\n",
            "│ Dataset       │ Method      │   Accuracy │ Top 5 Features                                                                                                                                                       │\n",
            "╞═══════════════╪═════════════╪════════════╪══════════════════════════════════════════════════════════════════════════════════════════════════════════════════════════════════════════════════════════════════════╡\n",
            "│ Breast Cancer │ SelectKBest │     0.9714 │ Clump_Thickness, Uniformity_Cell_Size, Uniformity_Cell_Shape, Bare_Nuclei, Bland_Chromatin                                                                           │\n",
            "├───────────────┼─────────────┼────────────┼──────────────────────────────────────────────────────────────────────────────────────────────────────────────────────────────────────────────────────────────────────┤\n",
            "│ Breast Cancer │ RFE         │     0.9714 │ Clump_Thickness, Uniformity_Cell_Shape, Marginal_Adhesion, Bare_Nuclei, Bland_Chromatin                                                                              │\n",
            "├───────────────┼─────────────┼────────────┼──────────────────────────────────────────────────────────────────────────────────────────────────────────────────────────────────────────────────────────────────────┤\n",
            "│ Breast Cancer │ Lasso       │     0.9714 │ Clump_Thickness, Uniformity_Cell_Size, Uniformity_Cell_Shape, Marginal_Adhesion, Single_Epithelial_Cell_Size, Bare_Nuclei, Bland_Chromatin, Normal_Nucleoli, Mitoses │\n",
            "├───────────────┼─────────────┼────────────┼──────────────────────────────────────────────────────────────────────────────────────────────────────────────────────────────────────────────────────────────────────┤\n",
            "│ Heart Disease │ SelectKBest │     0.7854 │ cp, thalach, exang, oldpeak, ca                                                                                                                                      │\n",
            "├───────────────┼─────────────┼────────────┼──────────────────────────────────────────────────────────────────────────────────────────────────────────────────────────────────────────────────────────────────────┤\n",
            "│ Heart Disease │ RFE         │     0.7805 │ cp, thalach, oldpeak, ca, thal                                                                                                                                       │\n",
            "├───────────────┼─────────────┼────────────┼──────────────────────────────────────────────────────────────────────────────────────────────────────────────────────────────────────────────────────────────────────┤\n",
            "│ Heart Disease │ Lasso       │     0.7951 │ age, sex, cp, trestbps, chol, restecg, thalach, exang, oldpeak, slope, ca, thal                                                                                      │\n",
            "├───────────────┼─────────────┼────────────┼──────────────────────────────────────────────────────────────────────────────────────────────────────────────────────────────────────────────────────────────────────┤\n",
            "│ Iris          │ SelectKBest │     1      │ SepalLengthCm, SepalWidthCm, PetalLengthCm, PetalWidthCm                                                                                                             │\n",
            "├───────────────┼─────────────┼────────────┼──────────────────────────────────────────────────────────────────────────────────────────────────────────────────────────────────────────────────────────────────────┤\n",
            "│ Iris          │ RFE         │     1      │ SepalLengthCm, SepalWidthCm, PetalLengthCm, PetalWidthCm                                                                                                             │\n",
            "├───────────────┼─────────────┼────────────┼──────────────────────────────────────────────────────────────────────────────────────────────────────────────────────────────────────────────────────────────────────┤\n",
            "│ Iris          │ Lasso       │     1      │ SepalWidthCm, PetalLengthCm, PetalWidthCm                                                                                                                            │\n",
            "├───────────────┼─────────────┼────────────┼──────────────────────────────────────────────────────────────────────────────────────────────────────────────────────────────────────────────────────────────────────┤\n",
            "│ Wine Quality  │ SelectKBest │     1      │ Alcohol, Flavanoids, Color.int, OD, Proline                                                                                                                          │\n",
            "├───────────────┼─────────────┼────────────┼──────────────────────────────────────────────────────────────────────────────────────────────────────────────────────────────────────────────────────────────────────┤\n",
            "│ Wine Quality  │ RFE         │     1      │ Alcohol, Flavanoids, Color.int, Hue, Proline                                                                                                                         │\n",
            "├───────────────┼─────────────┼────────────┼──────────────────────────────────────────────────────────────────────────────────────────────────────────────────────────────────────────────────────────────────────┤\n",
            "│ Wine Quality  │ Lasso       │     1      │ Alcohol, Malic.acid, Ash, Acl, Phenols, Flavanoids, Nonflavanoid.phenols, Color.int, Hue, OD, Proline                                                                │\n",
            "╘═══════════════╧═════════════╧════════════╧══════════════════════════════════════════════════════════════════════════════════════════════════════════════════════════════════════════════════════════════════════╛\n"
          ]
        }
      ]
    }
  ]
}