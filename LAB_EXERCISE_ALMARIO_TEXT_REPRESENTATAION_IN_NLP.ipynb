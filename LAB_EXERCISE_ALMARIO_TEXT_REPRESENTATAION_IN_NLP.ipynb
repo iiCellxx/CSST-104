{
  "nbformat": 4,
  "nbformat_minor": 0,
  "metadata": {
    "colab": {
      "provenance": [],
      "authorship_tag": "ABX9TyO2+iXzxJ4L2kdL0fqjE7zl",
      "include_colab_link": true
    },
    "kernelspec": {
      "name": "python3",
      "display_name": "Python 3"
    },
    "language_info": {
      "name": "python"
    }
  },
  "cells": [
    {
      "cell_type": "markdown",
      "metadata": {
        "id": "view-in-github",
        "colab_type": "text"
      },
      "source": [
        "<a href=\"https://colab.research.google.com/github/iiCellxx/CSST-104/blob/main/LAB_EXERCISE_ALMARIO_TEXT_REPRESENTATAION_IN_NLP.ipynb\" target=\"_parent\"><img src=\"https://colab.research.google.com/assets/colab-badge.svg\" alt=\"Open In Colab\"/></a>"
      ]
    },
    {
      "cell_type": "markdown",
      "source": [
        "# Lab Exercise: Text Representation in NLP\n",
        "\n",
        "CEL RICK D ALMARIO FROM BSCS 3B"
      ],
      "metadata": {
        "id": "cpJcWbHH2UzV"
      }
    },
    {
      "cell_type": "markdown",
      "source": [
        "# Step 1: Install and Import Required Libraries"
      ],
      "metadata": {
        "id": "v25n3peM2-SU"
      }
    },
    {
      "cell_type": "code",
      "execution_count": 1,
      "metadata": {
        "colab": {
          "base_uri": "https://localhost:8080/"
        },
        "id": "gJGua0Ly1-TM",
        "outputId": "61e6c8b5-7307-4385-8c3f-7735430eabae"
      },
      "outputs": [
        {
          "output_type": "stream",
          "name": "stdout",
          "text": [
            "ERROR: unknown command \"unistall\" - maybe you meant \"uninstall\"\n",
            "Requirement already satisfied: nltk in /usr/local/lib/python3.11/dist-packages (3.9.1)\n",
            "Requirement already satisfied: click in /usr/local/lib/python3.11/dist-packages (from nltk) (8.1.8)\n",
            "Requirement already satisfied: joblib in /usr/local/lib/python3.11/dist-packages (from nltk) (1.4.2)\n",
            "Requirement already satisfied: regex>=2021.8.3 in /usr/local/lib/python3.11/dist-packages (from nltk) (2024.11.6)\n",
            "Requirement already satisfied: tqdm in /usr/local/lib/python3.11/dist-packages (from nltk) (4.67.1)\n"
          ]
        }
      ],
      "source": [
        "!pip unistall nltk -y\n",
        "!pip install --no-cache-dir nltk\n",
        "\n",
        "import re\n",
        "import string\n",
        "import nltk\n",
        "from nltk.tokenize import word_tokenize\n",
        "from nltk.corpus import stopwords"
      ]
    },
    {
      "cell_type": "markdown",
      "source": [
        "# Step 2: Download Necessary NLTK Resources"
      ],
      "metadata": {
        "id": "pr40YGFq3uTd"
      }
    },
    {
      "cell_type": "code",
      "source": [
        "# Download tokenizer and stopwords\n",
        "nltk.download('punkt')\n",
        "nltk.download('stopwords')\n",
        "\n",
        "# Check if 'punkt' is properly installed\n",
        "try:\n",
        "    nltk.data.find(\"tokenizers/punkt\")\n",
        "    print(\"Punkt tokenizer found\")\n",
        "except LookupError:\n",
        "    print(\"Punkt tokenizer not found. Redownloading...\")\n",
        "    nltk.download(\"punkt\")\n"
      ],
      "metadata": {
        "colab": {
          "base_uri": "https://localhost:8080/"
        },
        "id": "IXDAuair3uys",
        "outputId": "8fdd253e-9d78-492c-b3ea-1d38653e4544"
      },
      "execution_count": 2,
      "outputs": [
        {
          "output_type": "stream",
          "name": "stderr",
          "text": [
            "[nltk_data] Downloading package punkt to /root/nltk_data...\n",
            "[nltk_data]   Unzipping tokenizers/punkt.zip.\n"
          ]
        },
        {
          "output_type": "stream",
          "name": "stdout",
          "text": [
            "Punkt tokenizer found\n"
          ]
        },
        {
          "output_type": "stream",
          "name": "stderr",
          "text": [
            "[nltk_data] Downloading package stopwords to /root/nltk_data...\n",
            "[nltk_data]   Unzipping corpora/stopwords.zip.\n"
          ]
        }
      ]
    },
    {
      "cell_type": "markdown",
      "source": [
        "# Step 3: Define the Sample Text"
      ],
      "metadata": {
        "id": "pUOvchoK3558"
      }
    },
    {
      "cell_type": "code",
      "source": [
        "# Sample text\n",
        "text = \"Machine Learning is transforming the world! In 2025, AI will be everywhere.\"\n",
        "print(\"Original Text:\", text)\n"
      ],
      "metadata": {
        "colab": {
          "base_uri": "https://localhost:8080/"
        },
        "id": "UomIzi7p37XU",
        "outputId": "bff086f5-8e69-4d58-b61a-0f30a50e95b8"
      },
      "execution_count": 3,
      "outputs": [
        {
          "output_type": "stream",
          "name": "stdout",
          "text": [
            "Original Text: Machine Learning is transforming the world! In 2025, AI will be everywhere.\n"
          ]
        }
      ]
    },
    {
      "cell_type": "markdown",
      "source": [
        "# Step 4: Convert Text to Lowercase"
      ],
      "metadata": {
        "id": "R2-s3Dzw39i8"
      }
    },
    {
      "cell_type": "code",
      "source": [
        "# Convert text to lowercase\n",
        "text_lower = text.lower()\n",
        "print(\"Lowercase:\", text_lower)\n"
      ],
      "metadata": {
        "colab": {
          "base_uri": "https://localhost:8080/"
        },
        "id": "u7LGUnbr39-k",
        "outputId": "5758b131-6c76-423d-c716-b6480260a61d"
      },
      "execution_count": 4,
      "outputs": [
        {
          "output_type": "stream",
          "name": "stdout",
          "text": [
            "Lowercase: machine learning is transforming the world! in 2025, ai will be everywhere.\n"
          ]
        }
      ]
    },
    {
      "cell_type": "markdown",
      "source": [
        "# Step 5: Remove Punctuation"
      ],
      "metadata": {
        "id": "ju3MEf643_XE"
      }
    },
    {
      "cell_type": "code",
      "source": [
        "# Remove punctuation using str.maketrans()\n",
        "text_no_punct = text_lower.translate(str.maketrans(\"\", \"\", string.punctuation))\n",
        "print(\"Without Punctuation:\", text_no_punct)\n"
      ],
      "metadata": {
        "colab": {
          "base_uri": "https://localhost:8080/"
        },
        "id": "DW--GbJu4Ah0",
        "outputId": "302d3697-31dd-4c60-8d97-4a553bd99114"
      },
      "execution_count": 5,
      "outputs": [
        {
          "output_type": "stream",
          "name": "stdout",
          "text": [
            "Without Punctuation: machine learning is transforming the world in 2025 ai will be everywhere\n"
          ]
        }
      ]
    },
    {
      "cell_type": "markdown",
      "source": [
        "# Step 6: Remove Numbers"
      ],
      "metadata": {
        "id": "iA-H9FMD4Crk"
      }
    },
    {
      "cell_type": "code",
      "source": [
        "# Remove numbers using regex\n",
        "text_no_numbers = re.sub(r'\\d+', '', text_no_punct)\n",
        "print(\"Without Numbers:\", text_no_numbers)\n"
      ],
      "metadata": {
        "colab": {
          "base_uri": "https://localhost:8080/"
        },
        "id": "2IRM2-gb4Ew0",
        "outputId": "350bb16c-f959-4bf2-f6c5-32ed35b36efd"
      },
      "execution_count": 6,
      "outputs": [
        {
          "output_type": "stream",
          "name": "stdout",
          "text": [
            "Without Numbers: machine learning is transforming the world in  ai will be everywhere\n"
          ]
        }
      ]
    },
    {
      "cell_type": "markdown",
      "source": [
        "# Step 7: Tokenization (Splitting text into words)"
      ],
      "metadata": {
        "id": "7JZkA6qS4HGt"
      }
    },
    {
      "cell_type": "code",
      "source": [
        "# Tokenize words using NLTK (Backup: Use split() if word_tokenize() fails)\n",
        "try:\n",
        "    tokens = word_tokenize(text_no_numbers)\n",
        "except LookupError:\n",
        "    print(\"Error with word_tokenize(), using split() instead.\")\n",
        "    tokens = text_no_numbers.split()\n",
        "\n",
        "print(\"Tokenized Words:\", tokens)\n"
      ],
      "metadata": {
        "colab": {
          "base_uri": "https://localhost:8080/"
        },
        "id": "YPqGH3_44H7l",
        "outputId": "39976755-c48e-454d-f8d0-371ab616ba72"
      },
      "execution_count": 7,
      "outputs": [
        {
          "output_type": "stream",
          "name": "stdout",
          "text": [
            "Error with word_tokenize(), using split() instead.\n",
            "Tokenized Words: ['machine', 'learning', 'is', 'transforming', 'the', 'world', 'in', 'ai', 'will', 'be', 'everywhere']\n"
          ]
        }
      ]
    },
    {
      "cell_type": "markdown",
      "source": [
        "# Step 8: Remove Stopwords"
      ],
      "metadata": {
        "id": "xL6M1SuB4KC8"
      }
    },
    {
      "cell_type": "code",
      "source": [
        "# Load English stopwords\n",
        "stop_words = set(stopwords.words('english'))\n",
        "\n",
        "# Remove stopwords from tokenized words\n",
        "filtered_tokens = [word for word in tokens if word not in stop_words]\n",
        "print(\"After Stopword Removal:\", filtered_tokens)\n"
      ],
      "metadata": {
        "colab": {
          "base_uri": "https://localhost:8080/"
        },
        "id": "CAnA_O6b4Khc",
        "outputId": "ce321cbe-484e-4e28-af42-0d2fac847ae9"
      },
      "execution_count": 8,
      "outputs": [
        {
          "output_type": "stream",
          "name": "stdout",
          "text": [
            "After Stopword Removal: ['machine', 'learning', 'transforming', 'world', 'ai', 'everywhere']\n"
          ]
        }
      ]
    },
    {
      "cell_type": "markdown",
      "source": [
        "# Final Output: Display Processed Text"
      ],
      "metadata": {
        "id": "BDvjSweW4MIc"
      }
    },
    {
      "cell_type": "code",
      "source": [
        "print(\"\\n*** Final Text Processing Results ***\")\n",
        "print(\"Original Text:\", text)\n",
        "print(\"Lowercase:\", text_lower)\n",
        "print(\"Without Punctuation:\", text_no_punct)\n",
        "print(\"Without Numbers:\", text_no_numbers)\n",
        "print(\"Tokenized Words:\", tokens)\n",
        "print(\"After Stopword Removal:\", filtered_tokens)\n"
      ],
      "metadata": {
        "colab": {
          "base_uri": "https://localhost:8080/"
        },
        "id": "uhBVjCDS4OCs",
        "outputId": "7669437b-ffc5-4022-d335-57de8c2acf87"
      },
      "execution_count": 9,
      "outputs": [
        {
          "output_type": "stream",
          "name": "stdout",
          "text": [
            "\n",
            "*** Final Text Processing Results ***\n",
            "Original Text: Machine Learning is transforming the world! In 2025, AI will be everywhere.\n",
            "Lowercase: machine learning is transforming the world! in 2025, ai will be everywhere.\n",
            "Without Punctuation: machine learning is transforming the world in 2025 ai will be everywhere\n",
            "Without Numbers: machine learning is transforming the world in  ai will be everywhere\n",
            "Tokenized Words: ['machine', 'learning', 'is', 'transforming', 'the', 'world', 'in', 'ai', 'will', 'be', 'everywhere']\n",
            "After Stopword Removal: ['machine', 'learning', 'transforming', 'world', 'ai', 'everywhere']\n"
          ]
        }
      ]
    }
  ]
}